{
  "nbformat": 4,
  "nbformat_minor": 5,
  "metadata": {
    "kernelspec": {
      "display_name": "Python 3",
      "name": "python3"
    },
    "language_info": {
      "name": "python"
    },
    "colab": {
      "provenance": [],
      "collapsed_sections": []
    },
    "accelerator": "GPU"
  },
  "cells": [
    {
      "cell_type": "markdown",
      "metadata": {
        "id": "vMzUXgel6No1"
      },
      "source": [
        "# **CS412 - Machine Learning - 2022**\n",
        "## Assignment #2\n",
        "100 pts\n",
        "\n",
        "\n",
        "## Goal\n",
        "\n",
        "The goal of this homework is two-fold:\n",
        "\n",
        "*   Gain experience with neural network approaches\n",
        "*   Gain experience with the Keras library\n",
        "\n",
        "## Dataset\n",
        "You are going to use a house price dataset that we prepared for you, that contains four independent variables (predictors) and one target variable. The task is predicting the target variable (house price) from the predictors (house attributes).\n",
        "\n",
        "\n",
        "Download the data from SuCourse. Reserve 10% of the training data for validation and use the rest for development (learning your models). The official test data we provide (1,200 samples) should only be used for testing at the end, and not model selection.\n",
        "\n",
        "## Task \n",
        "Build a regressor with a neural network that has only one hidden layer, using the Keras library function calls to predict house prices in the provided dataset.\n",
        "\n",
        "Your code should follow the given skeleton and try the indicated parameters.\n",
        "\n",
        "## Preprocessing and Meta-parameters\n",
        "You should try 10,50 and 100 as hidden node count. \n",
        "\n",
        "You should  decide on the learning rate (step size), you can try values such as 0.001, 0.01, 0.1, but you may need to increase if learning is very slow or decrease if you see the loss increase!\n",
        "\n",
        "You can use either sigmoid or Relu activations for the hidden nodes (indicate with your results) and you should know what to use for the activation for the output layer, input, output layer sizes, and the suitable loss function. \n",
        "\n",
        "## Software: \n",
        "\n",
        "Keras is a library that we will use especially for deep learning, but also with basic neural network functionality of course.\n",
        "\n",
        "You may find the necessary function references here: \n",
        "\n",
        "http://scikit-learn.org/stable/supervised_learning.html\n",
        "https://keras.io/api/\n",
        "\n",
        "When you search for Dense for instance, you should find the relevant function and explained parameters, easily.\n",
        "\n",
        "## Submission: \n",
        "\n",
        "Fill this notebook. Write the report section at the end.\n",
        "\n",
        "You should prepare a separate pdf document as your homework (name hw2-CS412-yourname.pdf) which consists of the report (Part 8) of the notebook for easy viewing -and- include a link to your notebook from within the pdf report (make sure to include the link obtained from the #share link on top right, **be sure to share with Sabancı University first** as otherwise there will be access problems.). Also, do not forget to add your answers for Questions 2 and 3 on the assignment document."
      ],
      "id": "vMzUXgel6No1"
    },
    {
      "cell_type": "markdown",
      "metadata": {
        "id": "cBtSa7Pc8tCn"
      },
      "source": [
        "##1) Initialize\n",
        "\n",
        "*   First make a copy of the notebook given to you as a starter.\n",
        "\n",
        "*   Make sure you choose Connect form upper right.\n"
      ],
      "id": "cBtSa7Pc8tCn"
    },
    {
      "cell_type": "markdown",
      "metadata": {
        "id": "hFNmGxqa9G2O"
      },
      "source": [
        "## 2) Load training dataset\n",
        "\n",
        "* Load the datasets (train.csv, test.csv) provided on SuCourse on your Google drive and read the datasets using Google Drive's mount functions. \n",
        "You may find the necessary functions here: \n",
        "https://colab.research.google.com/notebooks/io.ipynb"
      ],
      "id": "hFNmGxqa9G2O"
    },
    {
      "cell_type": "code",
      "metadata": {
        "id": "nza2i-JK92eu",
        "outputId": "312b628d-c5a5-4a63-a473-acc518d36704",
        "colab": {
          "base_uri": "https://localhost:8080/"
        }
      },
      "source": [
        "from google.colab import drive\n",
        "drive.mount('/content/drive') \n",
        "# click on the url that pops up and give the necessary authorizations"
      ],
      "id": "nza2i-JK92eu",
      "execution_count": null,
      "outputs": [
        {
          "output_type": "stream",
          "name": "stdout",
          "text": [
            "Drive already mounted at /content/drive; to attempt to forcibly remount, call drive.mount(\"/content/drive\", force_remount=True).\n"
          ]
        }
      ]
    },
    {
      "cell_type": "markdown",
      "metadata": {
        "id": "s9P--030AOoK"
      },
      "source": [
        "\n",
        "\n",
        "*   Set your notebooks working directory to the path where the datasets are uploaded (cd is the linux command for change directory) \n",
        "*   You may need to use cd drive/MyDrive depending on your path to the datasets on Google Drive. (don't comment the code in the cells when using linux commands)\n",
        "\n",
        "\n",
        "\n",
        "\n"
      ],
      "id": "s9P--030AOoK"
    },
    {
      "cell_type": "code",
      "metadata": {
        "id": "lplqod5D_cf1",
        "colab": {
          "base_uri": "https://localhost:8080/"
        },
        "outputId": "e86ee8ba-eb23-425e-db6d-e6a4a719a724"
      },
      "source": [
        "cd /drive/My Drive/412"
      ],
      "id": "lplqod5D_cf1",
      "execution_count": null,
      "outputs": [
        {
          "output_type": "stream",
          "name": "stdout",
          "text": [
            "[Errno 2] No such file or directory: '/drive/My Drive/412'\n",
            "/content\n"
          ]
        }
      ]
    },
    {
      "cell_type": "markdown",
      "metadata": {
        "id": "IfMT3IgEAugF"
      },
      "source": [
        "* List the files in the current directory."
      ],
      "id": "IfMT3IgEAugF"
    },
    {
      "cell_type": "code",
      "metadata": {
        "id": "aoopxfoX-VOq",
        "colab": {
          "base_uri": "https://localhost:8080/"
        },
        "outputId": "6fb1c55f-6df8-4af5-c6bd-cf35d845a1a2"
      },
      "source": [
        "ls"
      ],
      "id": "aoopxfoX-VOq",
      "execution_count": null,
      "outputs": [
        {
          "output_type": "stream",
          "name": "stdout",
          "text": [
            "\u001b[0m\u001b[01;34mdrive\u001b[0m/  \u001b[01;34msample_data\u001b[0m/\n"
          ]
        }
      ]
    },
    {
      "cell_type": "markdown",
      "metadata": {
        "id": "fZh3Y5AlBHAs"
      },
      "source": [
        "##3) Understanding the dataset (5 pts)\n",
        "\n",
        "There are alot of functions that can be used to know more about this dataset\n",
        "\n",
        "- What is the shape of the training set (num of samples X number of attributes) **[shape function can be used]**\n",
        "\n",
        "- Display attribute names **[columns function can be used]**\n",
        "\n",
        "- Display the first 5 rows from training dataset **[head or sample functions can be used]**\n",
        "\n",
        ".."
      ],
      "id": "fZh3Y5AlBHAs"
    },
    {
      "cell_type": "code",
      "metadata": {
        "id": "658e2be2",
        "colab": {
          "base_uri": "https://localhost:8080/",
          "height": 363
        },
        "outputId": "d8411c6f-d47d-42c8-bdef-da64f606235a"
      },
      "source": [
        "# import the necessary libraries\n",
        "\n",
        "import numpy as np\n",
        "import pandas as pd\n",
        "import matplotlib.pyplot as plt\n",
        "\n",
        "train_df = pd.read_csv(\"/content/drive/My Drive/412/train.csv\")\n",
        "# show first 10 elements of the training data\n",
        "train_df.head(10)"
      ],
      "id": "658e2be2",
      "execution_count": null,
      "outputs": [
        {
          "output_type": "execute_result",
          "data": {
            "text/plain": [
              "   sqmtrs  nrooms   view crime_rate          price\n",
              "0     251       5   west        low  925701.721399\n",
              "1     211       3   west       high  622237.482636\n",
              "2     128       5   east        low  694998.182376\n",
              "3     178       3   east       high  564689.015926\n",
              "4     231       3   west        low  811222.970379\n",
              "5     253       5  north       high  766250.032506\n",
              "6     101       1  north        low  512749.401548\n",
              "7     242       1  north       high  637010.760148\n",
              "8     174       5   west       high  638136.374869\n",
              "9     328       2  south       high  787704.988273"
            ],
            "text/html": [
              "\n",
              "  <div id=\"df-acf2e466-7e06-4fb8-8eb4-31e9c4b8171e\">\n",
              "    <div class=\"colab-df-container\">\n",
              "      <div>\n",
              "<style scoped>\n",
              "    .dataframe tbody tr th:only-of-type {\n",
              "        vertical-align: middle;\n",
              "    }\n",
              "\n",
              "    .dataframe tbody tr th {\n",
              "        vertical-align: top;\n",
              "    }\n",
              "\n",
              "    .dataframe thead th {\n",
              "        text-align: right;\n",
              "    }\n",
              "</style>\n",
              "<table border=\"1\" class=\"dataframe\">\n",
              "  <thead>\n",
              "    <tr style=\"text-align: right;\">\n",
              "      <th></th>\n",
              "      <th>sqmtrs</th>\n",
              "      <th>nrooms</th>\n",
              "      <th>view</th>\n",
              "      <th>crime_rate</th>\n",
              "      <th>price</th>\n",
              "    </tr>\n",
              "  </thead>\n",
              "  <tbody>\n",
              "    <tr>\n",
              "      <th>0</th>\n",
              "      <td>251</td>\n",
              "      <td>5</td>\n",
              "      <td>west</td>\n",
              "      <td>low</td>\n",
              "      <td>925701.721399</td>\n",
              "    </tr>\n",
              "    <tr>\n",
              "      <th>1</th>\n",
              "      <td>211</td>\n",
              "      <td>3</td>\n",
              "      <td>west</td>\n",
              "      <td>high</td>\n",
              "      <td>622237.482636</td>\n",
              "    </tr>\n",
              "    <tr>\n",
              "      <th>2</th>\n",
              "      <td>128</td>\n",
              "      <td>5</td>\n",
              "      <td>east</td>\n",
              "      <td>low</td>\n",
              "      <td>694998.182376</td>\n",
              "    </tr>\n",
              "    <tr>\n",
              "      <th>3</th>\n",
              "      <td>178</td>\n",
              "      <td>3</td>\n",
              "      <td>east</td>\n",
              "      <td>high</td>\n",
              "      <td>564689.015926</td>\n",
              "    </tr>\n",
              "    <tr>\n",
              "      <th>4</th>\n",
              "      <td>231</td>\n",
              "      <td>3</td>\n",
              "      <td>west</td>\n",
              "      <td>low</td>\n",
              "      <td>811222.970379</td>\n",
              "    </tr>\n",
              "    <tr>\n",
              "      <th>5</th>\n",
              "      <td>253</td>\n",
              "      <td>5</td>\n",
              "      <td>north</td>\n",
              "      <td>high</td>\n",
              "      <td>766250.032506</td>\n",
              "    </tr>\n",
              "    <tr>\n",
              "      <th>6</th>\n",
              "      <td>101</td>\n",
              "      <td>1</td>\n",
              "      <td>north</td>\n",
              "      <td>low</td>\n",
              "      <td>512749.401548</td>\n",
              "    </tr>\n",
              "    <tr>\n",
              "      <th>7</th>\n",
              "      <td>242</td>\n",
              "      <td>1</td>\n",
              "      <td>north</td>\n",
              "      <td>high</td>\n",
              "      <td>637010.760148</td>\n",
              "    </tr>\n",
              "    <tr>\n",
              "      <th>8</th>\n",
              "      <td>174</td>\n",
              "      <td>5</td>\n",
              "      <td>west</td>\n",
              "      <td>high</td>\n",
              "      <td>638136.374869</td>\n",
              "    </tr>\n",
              "    <tr>\n",
              "      <th>9</th>\n",
              "      <td>328</td>\n",
              "      <td>2</td>\n",
              "      <td>south</td>\n",
              "      <td>high</td>\n",
              "      <td>787704.988273</td>\n",
              "    </tr>\n",
              "  </tbody>\n",
              "</table>\n",
              "</div>\n",
              "      <button class=\"colab-df-convert\" onclick=\"convertToInteractive('df-acf2e466-7e06-4fb8-8eb4-31e9c4b8171e')\"\n",
              "              title=\"Convert this dataframe to an interactive table.\"\n",
              "              style=\"display:none;\">\n",
              "        \n",
              "  <svg xmlns=\"http://www.w3.org/2000/svg\" height=\"24px\"viewBox=\"0 0 24 24\"\n",
              "       width=\"24px\">\n",
              "    <path d=\"M0 0h24v24H0V0z\" fill=\"none\"/>\n",
              "    <path d=\"M18.56 5.44l.94 2.06.94-2.06 2.06-.94-2.06-.94-.94-2.06-.94 2.06-2.06.94zm-11 1L8.5 8.5l.94-2.06 2.06-.94-2.06-.94L8.5 2.5l-.94 2.06-2.06.94zm10 10l.94 2.06.94-2.06 2.06-.94-2.06-.94-.94-2.06-.94 2.06-2.06.94z\"/><path d=\"M17.41 7.96l-1.37-1.37c-.4-.4-.92-.59-1.43-.59-.52 0-1.04.2-1.43.59L10.3 9.45l-7.72 7.72c-.78.78-.78 2.05 0 2.83L4 21.41c.39.39.9.59 1.41.59.51 0 1.02-.2 1.41-.59l7.78-7.78 2.81-2.81c.8-.78.8-2.07 0-2.86zM5.41 20L4 18.59l7.72-7.72 1.47 1.35L5.41 20z\"/>\n",
              "  </svg>\n",
              "      </button>\n",
              "      \n",
              "  <style>\n",
              "    .colab-df-container {\n",
              "      display:flex;\n",
              "      flex-wrap:wrap;\n",
              "      gap: 12px;\n",
              "    }\n",
              "\n",
              "    .colab-df-convert {\n",
              "      background-color: #E8F0FE;\n",
              "      border: none;\n",
              "      border-radius: 50%;\n",
              "      cursor: pointer;\n",
              "      display: none;\n",
              "      fill: #1967D2;\n",
              "      height: 32px;\n",
              "      padding: 0 0 0 0;\n",
              "      width: 32px;\n",
              "    }\n",
              "\n",
              "    .colab-df-convert:hover {\n",
              "      background-color: #E2EBFA;\n",
              "      box-shadow: 0px 1px 2px rgba(60, 64, 67, 0.3), 0px 1px 3px 1px rgba(60, 64, 67, 0.15);\n",
              "      fill: #174EA6;\n",
              "    }\n",
              "\n",
              "    [theme=dark] .colab-df-convert {\n",
              "      background-color: #3B4455;\n",
              "      fill: #D2E3FC;\n",
              "    }\n",
              "\n",
              "    [theme=dark] .colab-df-convert:hover {\n",
              "      background-color: #434B5C;\n",
              "      box-shadow: 0px 1px 3px 1px rgba(0, 0, 0, 0.15);\n",
              "      filter: drop-shadow(0px 1px 2px rgba(0, 0, 0, 0.3));\n",
              "      fill: #FFFFFF;\n",
              "    }\n",
              "  </style>\n",
              "\n",
              "      <script>\n",
              "        const buttonEl =\n",
              "          document.querySelector('#df-acf2e466-7e06-4fb8-8eb4-31e9c4b8171e button.colab-df-convert');\n",
              "        buttonEl.style.display =\n",
              "          google.colab.kernel.accessAllowed ? 'block' : 'none';\n",
              "\n",
              "        async function convertToInteractive(key) {\n",
              "          const element = document.querySelector('#df-acf2e466-7e06-4fb8-8eb4-31e9c4b8171e');\n",
              "          const dataTable =\n",
              "            await google.colab.kernel.invokeFunction('convertToInteractive',\n",
              "                                                     [key], {});\n",
              "          if (!dataTable) return;\n",
              "\n",
              "          const docLinkHtml = 'Like what you see? Visit the ' +\n",
              "            '<a target=\"_blank\" href=https://colab.research.google.com/notebooks/data_table.ipynb>data table notebook</a>'\n",
              "            + ' to learn more about interactive tables.';\n",
              "          element.innerHTML = '';\n",
              "          dataTable['output_type'] = 'display_data';\n",
              "          await google.colab.output.renderOutput(dataTable, element);\n",
              "          const docLink = document.createElement('div');\n",
              "          docLink.innerHTML = docLinkHtml;\n",
              "          element.appendChild(docLink);\n",
              "        }\n",
              "      </script>\n",
              "    </div>\n",
              "  </div>\n",
              "  "
            ]
          },
          "metadata": {},
          "execution_count": 41
        }
      ]
    },
    {
      "cell_type": "code",
      "metadata": {
        "id": "12bbf0c6",
        "colab": {
          "base_uri": "https://localhost:8080/"
        },
        "outputId": "1a9924c2-b254-4417-83a4-c68408b47c9a"
      },
      "source": [
        "# print the shape of data\n",
        "\n",
        "print(\"Data dimensionality is:\", train_df.shape)\n",
        "\n",
        "# also give some statistics about the data like mean, standard deviation etc.\n",
        "print(\"-----------------\")\n",
        "print(\"Mean of sqmtrs:\", np.mean(train_df['sqmtrs']))\n",
        "print(\"Standard Deviation of sqmtrs\", np.std(train_df['sqmtrs']))\n",
        "print(\"-----------------\")\n",
        "print(\"Mean of Price\", np.mean(train_df['price']))\n",
        "print(\"Standard Deviation of Price\", np.mean(train_df['price']))\n"
      ],
      "id": "12bbf0c6",
      "execution_count": null,
      "outputs": [
        {
          "output_type": "stream",
          "name": "stdout",
          "text": [
            "Data dimensionality is: (4800, 5)\n",
            "-----------------\n",
            "Mean of sqmtrs: 225.03354166666668\n",
            "Standard Deviation of sqmtrs 71.84395068449813\n",
            "-----------------\n",
            "Mean of Price 725756.960757509\n",
            "Standard Deviation of Price 725756.960757509\n"
          ]
        }
      ]
    },
    {
      "cell_type": "code",
      "metadata": {
        "id": "dfe277e0"
      },
      "source": [],
      "id": "dfe277e0",
      "execution_count": null,
      "outputs": []
    },
    {
      "cell_type": "markdown",
      "metadata": {
        "id": "GtBJzQ6NB1Kz"
      },
      "source": [
        "##4) Preprocessing Steps (10 pts)\n",
        "\n",
        "As some of the features (predictive variables) on this dataset are categorical (non-numeric) you need to do some preprocessing for those features.\n",
        "\n",
        "You can use as many **dummy or indicator variables** as there are categories within one feature. You can also look at pandas' get_dummies or keras.utils.to_categorical functions.\n",
        "\n",
        "In neural networks, scaling of the features are important, because they affect the net input of a neuron as a whole. You should use **MinMax scaler** on sklearn for this task, which scales the variables between 0 and 1 on by default. (Remember that mean-squared error loss function tends to be extremely large with unscaled features.)\n"
      ],
      "id": "GtBJzQ6NB1Kz"
    },
    {
      "cell_type": "code",
      "metadata": {
        "id": "b505bf7b",
        "colab": {
          "base_uri": "https://localhost:8080/",
          "height": 363
        },
        "outputId": "530354c3-667e-49e9-cb66-46b7c33a044f"
      },
      "source": [
        "# encode the categorical variables\n",
        "\n",
        "cleanup_nums = {\"crime_rate\":     {\"low\": 0, \"high\": 1},\n",
        "                \"view\": {\"north\": 1, \"south\": 2, \"east\": 3, \"west\": 4}}\n",
        "train_df = train_df.replace(cleanup_nums)\n",
        "\n",
        "# scale the features between 0-1\n",
        "from sklearn.preprocessing import MinMaxScaler\n",
        "msc = MinMaxScaler(feature_range=(0, 1))\n",
        "scaled_train = msc.fit_transform(train_df)\n",
        "scaled_train_df = pd.DataFrame(scaled_train, columns=train_df.columns.values)\n",
        "scaled_train_df.head(10)"
      ],
      "id": "b505bf7b",
      "execution_count": null,
      "outputs": [
        {
          "output_type": "execute_result",
          "data": {
            "text/plain": [
              "     sqmtrs  nrooms      view  crime_rate     price\n",
              "0  0.606426    1.00  1.000000         0.0  0.791034\n",
              "1  0.445783    0.50  1.000000         1.0  0.369303\n",
              "2  0.112450    1.00  0.666667         0.0  0.470421\n",
              "3  0.313253    0.50  0.666667         1.0  0.289327\n",
              "4  0.526104    0.50  1.000000         0.0  0.631941\n",
              "5  0.614458    1.00  0.000000         1.0  0.569441\n",
              "6  0.004016    0.00  0.000000         0.0  0.217145\n",
              "7  0.570281    0.00  0.000000         1.0  0.389834\n",
              "8  0.297189    1.00  1.000000         1.0  0.391398\n",
              "9  0.915663    0.25  0.333333         1.0  0.599257"
            ],
            "text/html": [
              "\n",
              "  <div id=\"df-efb4895e-c7a5-4639-8ec2-5df9c95ba95d\">\n",
              "    <div class=\"colab-df-container\">\n",
              "      <div>\n",
              "<style scoped>\n",
              "    .dataframe tbody tr th:only-of-type {\n",
              "        vertical-align: middle;\n",
              "    }\n",
              "\n",
              "    .dataframe tbody tr th {\n",
              "        vertical-align: top;\n",
              "    }\n",
              "\n",
              "    .dataframe thead th {\n",
              "        text-align: right;\n",
              "    }\n",
              "</style>\n",
              "<table border=\"1\" class=\"dataframe\">\n",
              "  <thead>\n",
              "    <tr style=\"text-align: right;\">\n",
              "      <th></th>\n",
              "      <th>sqmtrs</th>\n",
              "      <th>nrooms</th>\n",
              "      <th>view</th>\n",
              "      <th>crime_rate</th>\n",
              "      <th>price</th>\n",
              "    </tr>\n",
              "  </thead>\n",
              "  <tbody>\n",
              "    <tr>\n",
              "      <th>0</th>\n",
              "      <td>0.606426</td>\n",
              "      <td>1.00</td>\n",
              "      <td>1.000000</td>\n",
              "      <td>0.0</td>\n",
              "      <td>0.791034</td>\n",
              "    </tr>\n",
              "    <tr>\n",
              "      <th>1</th>\n",
              "      <td>0.445783</td>\n",
              "      <td>0.50</td>\n",
              "      <td>1.000000</td>\n",
              "      <td>1.0</td>\n",
              "      <td>0.369303</td>\n",
              "    </tr>\n",
              "    <tr>\n",
              "      <th>2</th>\n",
              "      <td>0.112450</td>\n",
              "      <td>1.00</td>\n",
              "      <td>0.666667</td>\n",
              "      <td>0.0</td>\n",
              "      <td>0.470421</td>\n",
              "    </tr>\n",
              "    <tr>\n",
              "      <th>3</th>\n",
              "      <td>0.313253</td>\n",
              "      <td>0.50</td>\n",
              "      <td>0.666667</td>\n",
              "      <td>1.0</td>\n",
              "      <td>0.289327</td>\n",
              "    </tr>\n",
              "    <tr>\n",
              "      <th>4</th>\n",
              "      <td>0.526104</td>\n",
              "      <td>0.50</td>\n",
              "      <td>1.000000</td>\n",
              "      <td>0.0</td>\n",
              "      <td>0.631941</td>\n",
              "    </tr>\n",
              "    <tr>\n",
              "      <th>5</th>\n",
              "      <td>0.614458</td>\n",
              "      <td>1.00</td>\n",
              "      <td>0.000000</td>\n",
              "      <td>1.0</td>\n",
              "      <td>0.569441</td>\n",
              "    </tr>\n",
              "    <tr>\n",
              "      <th>6</th>\n",
              "      <td>0.004016</td>\n",
              "      <td>0.00</td>\n",
              "      <td>0.000000</td>\n",
              "      <td>0.0</td>\n",
              "      <td>0.217145</td>\n",
              "    </tr>\n",
              "    <tr>\n",
              "      <th>7</th>\n",
              "      <td>0.570281</td>\n",
              "      <td>0.00</td>\n",
              "      <td>0.000000</td>\n",
              "      <td>1.0</td>\n",
              "      <td>0.389834</td>\n",
              "    </tr>\n",
              "    <tr>\n",
              "      <th>8</th>\n",
              "      <td>0.297189</td>\n",
              "      <td>1.00</td>\n",
              "      <td>1.000000</td>\n",
              "      <td>1.0</td>\n",
              "      <td>0.391398</td>\n",
              "    </tr>\n",
              "    <tr>\n",
              "      <th>9</th>\n",
              "      <td>0.915663</td>\n",
              "      <td>0.25</td>\n",
              "      <td>0.333333</td>\n",
              "      <td>1.0</td>\n",
              "      <td>0.599257</td>\n",
              "    </tr>\n",
              "  </tbody>\n",
              "</table>\n",
              "</div>\n",
              "      <button class=\"colab-df-convert\" onclick=\"convertToInteractive('df-efb4895e-c7a5-4639-8ec2-5df9c95ba95d')\"\n",
              "              title=\"Convert this dataframe to an interactive table.\"\n",
              "              style=\"display:none;\">\n",
              "        \n",
              "  <svg xmlns=\"http://www.w3.org/2000/svg\" height=\"24px\"viewBox=\"0 0 24 24\"\n",
              "       width=\"24px\">\n",
              "    <path d=\"M0 0h24v24H0V0z\" fill=\"none\"/>\n",
              "    <path d=\"M18.56 5.44l.94 2.06.94-2.06 2.06-.94-2.06-.94-.94-2.06-.94 2.06-2.06.94zm-11 1L8.5 8.5l.94-2.06 2.06-.94-2.06-.94L8.5 2.5l-.94 2.06-2.06.94zm10 10l.94 2.06.94-2.06 2.06-.94-2.06-.94-.94-2.06-.94 2.06-2.06.94z\"/><path d=\"M17.41 7.96l-1.37-1.37c-.4-.4-.92-.59-1.43-.59-.52 0-1.04.2-1.43.59L10.3 9.45l-7.72 7.72c-.78.78-.78 2.05 0 2.83L4 21.41c.39.39.9.59 1.41.59.51 0 1.02-.2 1.41-.59l7.78-7.78 2.81-2.81c.8-.78.8-2.07 0-2.86zM5.41 20L4 18.59l7.72-7.72 1.47 1.35L5.41 20z\"/>\n",
              "  </svg>\n",
              "      </button>\n",
              "      \n",
              "  <style>\n",
              "    .colab-df-container {\n",
              "      display:flex;\n",
              "      flex-wrap:wrap;\n",
              "      gap: 12px;\n",
              "    }\n",
              "\n",
              "    .colab-df-convert {\n",
              "      background-color: #E8F0FE;\n",
              "      border: none;\n",
              "      border-radius: 50%;\n",
              "      cursor: pointer;\n",
              "      display: none;\n",
              "      fill: #1967D2;\n",
              "      height: 32px;\n",
              "      padding: 0 0 0 0;\n",
              "      width: 32px;\n",
              "    }\n",
              "\n",
              "    .colab-df-convert:hover {\n",
              "      background-color: #E2EBFA;\n",
              "      box-shadow: 0px 1px 2px rgba(60, 64, 67, 0.3), 0px 1px 3px 1px rgba(60, 64, 67, 0.15);\n",
              "      fill: #174EA6;\n",
              "    }\n",
              "\n",
              "    [theme=dark] .colab-df-convert {\n",
              "      background-color: #3B4455;\n",
              "      fill: #D2E3FC;\n",
              "    }\n",
              "\n",
              "    [theme=dark] .colab-df-convert:hover {\n",
              "      background-color: #434B5C;\n",
              "      box-shadow: 0px 1px 3px 1px rgba(0, 0, 0, 0.15);\n",
              "      filter: drop-shadow(0px 1px 2px rgba(0, 0, 0, 0.3));\n",
              "      fill: #FFFFFF;\n",
              "    }\n",
              "  </style>\n",
              "\n",
              "      <script>\n",
              "        const buttonEl =\n",
              "          document.querySelector('#df-efb4895e-c7a5-4639-8ec2-5df9c95ba95d button.colab-df-convert');\n",
              "        buttonEl.style.display =\n",
              "          google.colab.kernel.accessAllowed ? 'block' : 'none';\n",
              "\n",
              "        async function convertToInteractive(key) {\n",
              "          const element = document.querySelector('#df-efb4895e-c7a5-4639-8ec2-5df9c95ba95d');\n",
              "          const dataTable =\n",
              "            await google.colab.kernel.invokeFunction('convertToInteractive',\n",
              "                                                     [key], {});\n",
              "          if (!dataTable) return;\n",
              "\n",
              "          const docLinkHtml = 'Like what you see? Visit the ' +\n",
              "            '<a target=\"_blank\" href=https://colab.research.google.com/notebooks/data_table.ipynb>data table notebook</a>'\n",
              "            + ' to learn more about interactive tables.';\n",
              "          element.innerHTML = '';\n",
              "          dataTable['output_type'] = 'display_data';\n",
              "          await google.colab.output.renderOutput(dataTable, element);\n",
              "          const docLink = document.createElement('div');\n",
              "          docLink.innerHTML = docLinkHtml;\n",
              "          element.appendChild(docLink);\n",
              "        }\n",
              "      </script>\n",
              "    </div>\n",
              "  </div>\n",
              "  "
            ]
          },
          "metadata": {},
          "execution_count": 43
        }
      ]
    },
    {
      "cell_type": "markdown",
      "metadata": {
        "id": "nnSUvg-OK9FP"
      },
      "source": [
        "Don't forget the split the training data to obtain a validation set. **Use random_state=42**"
      ],
      "id": "nnSUvg-OK9FP"
    },
    {
      "cell_type": "code",
      "metadata": {
        "id": "WufovdxNK8sI"
      },
      "source": [
        "# split 90-10\n",
        "from sklearn.model_selection import train_test_split\n",
        "# Define X:\n",
        "X = scaled_train_df[['sqmtrs',\t'nrooms',\t'view',\t'crime_rate']]\n",
        "\n",
        "# Define y:\n",
        "y = scaled_train_df['price']\n",
        "X_train, X_val, y_train, y_val= train_test_split(X,y, test_size=0.1, random_state=42)\n",
        "\n",
        "X_train_array = X_train.values\n",
        "Y_train_array = y_train.values\n",
        "X_val_array = X_val.values\n",
        "Y_val_array = y_val.values\n"
      ],
      "id": "WufovdxNK8sI",
      "execution_count": null,
      "outputs": []
    },
    {
      "cell_type": "markdown",
      "metadata": {
        "id": "hU-_nQ4IFuR3"
      },
      "source": [
        "##5) Train neural networks on development data and do model selection using the validation data (55 pts)\n",
        "\n",
        "\n",
        "* Train a neural network with **one hidden layer** (try 3 different values for the number of neurons in that hidden layer, as 25, 50, 100), you will need to correctly choose the optimizer and the loss function that this model will train with. Use batch_size as 64 and train each model for 30 epochs. \n",
        "\n",
        "* Train another neural network with two hidden layers with meta-parameters of your choice. Again, use batch_size as 64 and train the model for 30 epochs. \n",
        "\n",
        "* **Bonus (5 pts)** Train a KNN or a Decision Tree model with your own choice of meta parameters to predict the house prices.\n"
      ],
      "id": "hU-_nQ4IFuR3"
    },
    {
      "cell_type": "code",
      "source": [
        "import keras\n",
        "import keras.utils\n",
        "from keras import utils as np_utils\n",
        "from tensorflow.keras.utils import to_categorical\n",
        "from keras.models import Sequential\n",
        "from keras.layers import Dense, Dropout, Activation, Flatten\n",
        "from tensorflow.keras.optimizers import SGD, Adam\n",
        "from sklearn.model_selection import train_test_split\n"
      ],
      "metadata": {
        "id": "9xPusf-68JXD"
      },
      "id": "9xPusf-68JXD",
      "execution_count": null,
      "outputs": []
    },
    {
      "cell_type": "code",
      "source": [
        "model_1 = Sequential()\n",
        "model_1.add(Dense(25, activation='sigmoid', name='hidden_1'))\n",
        "model_1.add(Dense(1, name='output_layer'))\n",
        "model_1.compile(loss='mean_squared_error', optimizer='adam', metrics=['accuracy'])\n",
        "histories_1= []\n",
        "history_1 = model_1.fit(X_train_array, Y_train_array, batch_size=64, epochs=30, verbose=1)\n",
        "histories_1.append(history_1)"
      ],
      "metadata": {
        "colab": {
          "base_uri": "https://localhost:8080/"
        },
        "id": "rcgUZmaF4zhU",
        "outputId": "15bb8c2d-f8fa-4504-a2ca-b10215b2f82d"
      },
      "id": "rcgUZmaF4zhU",
      "execution_count": null,
      "outputs": [
        {
          "output_type": "stream",
          "name": "stdout",
          "text": [
            "Epoch 1/30\n",
            "68/68 [==============================] - 0s 3ms/step - loss: 0.0570 - accuracy: 4.6296e-04\n",
            "Epoch 2/30\n",
            "68/68 [==============================] - 0s 3ms/step - loss: 0.0238 - accuracy: 4.6296e-04\n",
            "Epoch 3/30\n",
            "68/68 [==============================] - 0s 3ms/step - loss: 0.0189 - accuracy: 4.6296e-04\n",
            "Epoch 4/30\n",
            "68/68 [==============================] - 0s 3ms/step - loss: 0.0145 - accuracy: 4.6296e-04\n",
            "Epoch 5/30\n",
            "68/68 [==============================] - 0s 3ms/step - loss: 0.0108 - accuracy: 4.6296e-04\n",
            "Epoch 6/30\n",
            "68/68 [==============================] - 0s 3ms/step - loss: 0.0077 - accuracy: 4.6296e-04\n",
            "Epoch 7/30\n",
            "68/68 [==============================] - 0s 3ms/step - loss: 0.0054 - accuracy: 4.6296e-04\n",
            "Epoch 8/30\n",
            "68/68 [==============================] - 0s 2ms/step - loss: 0.0037 - accuracy: 4.6296e-04\n",
            "Epoch 9/30\n",
            "68/68 [==============================] - 0s 2ms/step - loss: 0.0024 - accuracy: 4.6296e-04\n",
            "Epoch 10/30\n",
            "68/68 [==============================] - 0s 3ms/step - loss: 0.0016 - accuracy: 4.6296e-04\n",
            "Epoch 11/30\n",
            "68/68 [==============================] - 0s 2ms/step - loss: 0.0011 - accuracy: 4.6296e-04\n",
            "Epoch 12/30\n",
            "68/68 [==============================] - 0s 2ms/step - loss: 7.5757e-04 - accuracy: 4.6296e-04\n",
            "Epoch 13/30\n",
            "68/68 [==============================] - 0s 2ms/step - loss: 5.7855e-04 - accuracy: 4.6296e-04\n",
            "Epoch 14/30\n",
            "68/68 [==============================] - 0s 2ms/step - loss: 4.8450e-04 - accuracy: 4.6296e-04\n",
            "Epoch 15/30\n",
            "68/68 [==============================] - 0s 3ms/step - loss: 4.3613e-04 - accuracy: 4.6296e-04\n",
            "Epoch 16/30\n",
            "68/68 [==============================] - 0s 3ms/step - loss: 4.1471e-04 - accuracy: 4.6296e-04\n",
            "Epoch 17/30\n",
            "68/68 [==============================] - 0s 2ms/step - loss: 4.0396e-04 - accuracy: 4.6296e-04\n",
            "Epoch 18/30\n",
            "68/68 [==============================] - 0s 2ms/step - loss: 3.9951e-04 - accuracy: 4.6296e-04\n",
            "Epoch 19/30\n",
            "68/68 [==============================] - 0s 2ms/step - loss: 3.9663e-04 - accuracy: 4.6296e-04\n",
            "Epoch 20/30\n",
            "68/68 [==============================] - 0s 3ms/step - loss: 3.9688e-04 - accuracy: 4.6296e-04\n",
            "Epoch 21/30\n",
            "68/68 [==============================] - 0s 3ms/step - loss: 3.9567e-04 - accuracy: 4.6296e-04\n",
            "Epoch 22/30\n",
            "68/68 [==============================] - 0s 3ms/step - loss: 3.9539e-04 - accuracy: 4.6296e-04\n",
            "Epoch 23/30\n",
            "68/68 [==============================] - 0s 2ms/step - loss: 3.9564e-04 - accuracy: 4.6296e-04\n",
            "Epoch 24/30\n",
            "68/68 [==============================] - 0s 3ms/step - loss: 3.9607e-04 - accuracy: 4.6296e-04\n",
            "Epoch 25/30\n",
            "68/68 [==============================] - 0s 2ms/step - loss: 3.9629e-04 - accuracy: 4.6296e-04\n",
            "Epoch 26/30\n",
            "68/68 [==============================] - 0s 2ms/step - loss: 3.9842e-04 - accuracy: 4.6296e-04\n",
            "Epoch 27/30\n",
            "68/68 [==============================] - 0s 3ms/step - loss: 3.9497e-04 - accuracy: 4.6296e-04\n",
            "Epoch 28/30\n",
            "68/68 [==============================] - 0s 2ms/step - loss: 3.9511e-04 - accuracy: 4.6296e-04\n",
            "Epoch 29/30\n",
            "68/68 [==============================] - 0s 2ms/step - loss: 3.9635e-04 - accuracy: 4.6296e-04\n",
            "Epoch 30/30\n",
            "68/68 [==============================] - 0s 2ms/step - loss: 3.9518e-04 - accuracy: 4.6296e-04\n"
          ]
        }
      ]
    },
    {
      "cell_type": "code",
      "source": [
        "model_2 = Sequential()\n",
        "model_2.add(Dense(50, activation='sigmoid', name='hidden_1'))\n",
        "model_2.add(Dense(1, name='output_layer'))\n",
        "model_2.compile(loss='mean_squared_error', optimizer='adam', metrics=['accuracy'])\n",
        "histories_2= []\n",
        "history_2 = model_2.fit(X_train_array, Y_train_array, batch_size=64, epochs=30, verbose=1)\n",
        "histories_2.append(history_2)"
      ],
      "metadata": {
        "colab": {
          "base_uri": "https://localhost:8080/"
        },
        "id": "upp9avAp6HMi",
        "outputId": "37975bcc-e34a-43fb-a0ec-22aee2971d4a"
      },
      "id": "upp9avAp6HMi",
      "execution_count": null,
      "outputs": [
        {
          "output_type": "stream",
          "name": "stdout",
          "text": [
            "Epoch 1/30\n",
            "68/68 [==============================] - 0s 3ms/step - loss: 0.0426 - accuracy: 2.3148e-04\n",
            "Epoch 2/30\n",
            "68/68 [==============================] - 0s 2ms/step - loss: 0.0216 - accuracy: 4.6296e-04\n",
            "Epoch 3/30\n",
            "68/68 [==============================] - 0s 2ms/step - loss: 0.0112 - accuracy: 4.6296e-04\n",
            "Epoch 4/30\n",
            "68/68 [==============================] - 0s 3ms/step - loss: 0.0054 - accuracy: 4.6296e-04\n",
            "Epoch 5/30\n",
            "68/68 [==============================] - 0s 2ms/step - loss: 0.0024 - accuracy: 4.6296e-04\n",
            "Epoch 6/30\n",
            "68/68 [==============================] - 0s 3ms/step - loss: 0.0011 - accuracy: 4.6296e-04\n",
            "Epoch 7/30\n",
            "68/68 [==============================] - 0s 3ms/step - loss: 5.9995e-04 - accuracy: 4.6296e-04\n",
            "Epoch 8/30\n",
            "68/68 [==============================] - 0s 2ms/step - loss: 4.4348e-04 - accuracy: 4.6296e-04\n",
            "Epoch 9/30\n",
            "68/68 [==============================] - 0s 2ms/step - loss: 4.0518e-04 - accuracy: 4.6296e-04\n",
            "Epoch 10/30\n",
            "68/68 [==============================] - 0s 2ms/step - loss: 3.9959e-04 - accuracy: 4.6296e-04\n",
            "Epoch 11/30\n",
            "68/68 [==============================] - 0s 2ms/step - loss: 3.9612e-04 - accuracy: 4.6296e-04\n",
            "Epoch 12/30\n",
            "68/68 [==============================] - 0s 3ms/step - loss: 4.0552e-04 - accuracy: 4.6296e-04\n",
            "Epoch 13/30\n",
            "68/68 [==============================] - 0s 3ms/step - loss: 4.0433e-04 - accuracy: 4.6296e-04\n",
            "Epoch 14/30\n",
            "68/68 [==============================] - 0s 2ms/step - loss: 3.9725e-04 - accuracy: 4.6296e-04\n",
            "Epoch 15/30\n",
            "68/68 [==============================] - 0s 3ms/step - loss: 3.9707e-04 - accuracy: 4.6296e-04\n",
            "Epoch 16/30\n",
            "68/68 [==============================] - 0s 2ms/step - loss: 3.9678e-04 - accuracy: 4.6296e-04\n",
            "Epoch 17/30\n",
            "68/68 [==============================] - 0s 2ms/step - loss: 3.9543e-04 - accuracy: 4.6296e-04\n",
            "Epoch 18/30\n",
            "68/68 [==============================] - 0s 3ms/step - loss: 4.0154e-04 - accuracy: 4.6296e-04\n",
            "Epoch 19/30\n",
            "68/68 [==============================] - 0s 2ms/step - loss: 3.9667e-04 - accuracy: 4.6296e-04\n",
            "Epoch 20/30\n",
            "68/68 [==============================] - 0s 2ms/step - loss: 4.0147e-04 - accuracy: 4.6296e-04\n",
            "Epoch 21/30\n",
            "68/68 [==============================] - 0s 2ms/step - loss: 4.0089e-04 - accuracy: 4.6296e-04\n",
            "Epoch 22/30\n",
            "68/68 [==============================] - 0s 2ms/step - loss: 3.9641e-04 - accuracy: 4.6296e-04\n",
            "Epoch 23/30\n",
            "68/68 [==============================] - 0s 3ms/step - loss: 4.0207e-04 - accuracy: 4.6296e-04\n",
            "Epoch 24/30\n",
            "68/68 [==============================] - 0s 2ms/step - loss: 4.0087e-04 - accuracy: 4.6296e-04\n",
            "Epoch 25/30\n",
            "68/68 [==============================] - 0s 2ms/step - loss: 4.0265e-04 - accuracy: 4.6296e-04\n",
            "Epoch 26/30\n",
            "68/68 [==============================] - 0s 2ms/step - loss: 3.9453e-04 - accuracy: 4.6296e-04\n",
            "Epoch 27/30\n",
            "68/68 [==============================] - 0s 2ms/step - loss: 4.1509e-04 - accuracy: 4.6296e-04\n",
            "Epoch 28/30\n",
            "68/68 [==============================] - 0s 2ms/step - loss: 4.1641e-04 - accuracy: 4.6296e-04\n",
            "Epoch 29/30\n",
            "68/68 [==============================] - 0s 3ms/step - loss: 3.9971e-04 - accuracy: 4.6296e-04\n",
            "Epoch 30/30\n",
            "68/68 [==============================] - 0s 2ms/step - loss: 4.2256e-04 - accuracy: 4.6296e-04\n"
          ]
        }
      ]
    },
    {
      "cell_type": "code",
      "source": [
        "model_3 = Sequential()\n",
        "model_3.add(Dense(100, activation='sigmoid', name='hidden_1'))\n",
        "model_3.add(Dense(1, name='output_layer'))\n",
        "model_3.compile(loss='mean_squared_error', optimizer='adam', metrics=['accuracy'])\n",
        "histories_3= []\n",
        "history_3 = model_3.fit(X_train_array, Y_train_array, batch_size=64, epochs=30, verbose=1)\n",
        "histories_3.append(history_3)"
      ],
      "metadata": {
        "colab": {
          "base_uri": "https://localhost:8080/"
        },
        "id": "JJN1I-R06aAX",
        "outputId": "8d882d37-3603-4c87-a105-dba460919983"
      },
      "id": "JJN1I-R06aAX",
      "execution_count": null,
      "outputs": [
        {
          "output_type": "stream",
          "name": "stdout",
          "text": [
            "Epoch 1/30\n",
            "68/68 [==============================] - 0s 3ms/step - loss: 0.7771 - accuracy: 2.3148e-04\n",
            "Epoch 2/30\n",
            "68/68 [==============================] - 0s 2ms/step - loss: 0.0400 - accuracy: 4.6296e-04\n",
            "Epoch 3/30\n",
            "68/68 [==============================] - 0s 3ms/step - loss: 0.0318 - accuracy: 4.6296e-04\n",
            "Epoch 4/30\n",
            "68/68 [==============================] - 0s 2ms/step - loss: 0.0249 - accuracy: 4.6296e-04\n",
            "Epoch 5/30\n",
            "68/68 [==============================] - 0s 2ms/step - loss: 0.0192 - accuracy: 4.6296e-04\n",
            "Epoch 6/30\n",
            "68/68 [==============================] - 0s 3ms/step - loss: 0.0147 - accuracy: 4.6296e-04\n",
            "Epoch 7/30\n",
            "68/68 [==============================] - 0s 2ms/step - loss: 0.0112 - accuracy: 4.6296e-04\n",
            "Epoch 8/30\n",
            "68/68 [==============================] - 0s 3ms/step - loss: 0.0085 - accuracy: 4.6296e-04\n",
            "Epoch 9/30\n",
            "68/68 [==============================] - 0s 2ms/step - loss: 0.0064 - accuracy: 4.6296e-04\n",
            "Epoch 10/30\n",
            "68/68 [==============================] - 0s 2ms/step - loss: 0.0049 - accuracy: 4.6296e-04\n",
            "Epoch 11/30\n",
            "68/68 [==============================] - 0s 2ms/step - loss: 0.0037 - accuracy: 4.6296e-04\n",
            "Epoch 12/30\n",
            "68/68 [==============================] - 0s 2ms/step - loss: 0.0028 - accuracy: 4.6296e-04\n",
            "Epoch 13/30\n",
            "68/68 [==============================] - 0s 2ms/step - loss: 0.0021 - accuracy: 4.6296e-04\n",
            "Epoch 14/30\n",
            "68/68 [==============================] - 0s 3ms/step - loss: 0.0015 - accuracy: 4.6296e-04\n",
            "Epoch 15/30\n",
            "68/68 [==============================] - 0s 2ms/step - loss: 0.0012 - accuracy: 4.6296e-04\n",
            "Epoch 16/30\n",
            "68/68 [==============================] - 0s 2ms/step - loss: 9.1588e-04 - accuracy: 4.6296e-04\n",
            "Epoch 17/30\n",
            "68/68 [==============================] - 0s 2ms/step - loss: 7.3428e-04 - accuracy: 4.6296e-04\n",
            "Epoch 18/30\n",
            "68/68 [==============================] - 0s 3ms/step - loss: 6.1197e-04 - accuracy: 4.6296e-04\n",
            "Epoch 19/30\n",
            "68/68 [==============================] - 0s 2ms/step - loss: 5.3186e-04 - accuracy: 4.6296e-04\n",
            "Epoch 20/30\n",
            "68/68 [==============================] - 0s 3ms/step - loss: 4.8049e-04 - accuracy: 4.6296e-04\n",
            "Epoch 21/30\n",
            "68/68 [==============================] - 0s 2ms/step - loss: 4.4949e-04 - accuracy: 4.6296e-04\n",
            "Epoch 22/30\n",
            "68/68 [==============================] - 0s 2ms/step - loss: 4.3125e-04 - accuracy: 4.6296e-04\n",
            "Epoch 23/30\n",
            "68/68 [==============================] - 0s 2ms/step - loss: 4.1999e-04 - accuracy: 4.6296e-04\n",
            "Epoch 24/30\n",
            "68/68 [==============================] - 0s 2ms/step - loss: 4.1354e-04 - accuracy: 4.6296e-04\n",
            "Epoch 25/30\n",
            "68/68 [==============================] - 0s 2ms/step - loss: 4.0899e-04 - accuracy: 4.6296e-04\n",
            "Epoch 26/30\n",
            "68/68 [==============================] - 0s 3ms/step - loss: 4.0829e-04 - accuracy: 4.6296e-04\n",
            "Epoch 27/30\n",
            "68/68 [==============================] - 0s 2ms/step - loss: 4.0689e-04 - accuracy: 4.6296e-04\n",
            "Epoch 28/30\n",
            "68/68 [==============================] - 0s 3ms/step - loss: 4.0602e-04 - accuracy: 4.6296e-04\n",
            "Epoch 29/30\n",
            "68/68 [==============================] - 0s 2ms/step - loss: 4.0607e-04 - accuracy: 4.6296e-04\n",
            "Epoch 30/30\n",
            "68/68 [==============================] - 0s 2ms/step - loss: 4.0460e-04 - accuracy: 4.6296e-04\n"
          ]
        }
      ]
    },
    {
      "cell_type": "code",
      "metadata": {
        "id": "13b3d502",
        "colab": {
          "base_uri": "https://localhost:8080/"
        },
        "outputId": "4c987c19-c797-4977-ca97-98edf7a072d2"
      },
      "source": [
        "# train a two-hidden layered neural network\n",
        "model = Sequential()\n",
        "model.add(Dense(100, activation='sigmoid', name='hidden_1'))\n",
        "model.add(Dense(50, activation='sigmoid', name='hidden_2'))\n",
        "model.add(Dense(1, name='output_layer'))\n",
        "model.compile(loss='mean_squared_error', optimizer='adam', metrics=['accuracy'])\n",
        "histories= []\n",
        "history = model.fit(X_train_array, Y_train_array, batch_size=64, epochs=30, verbose=1)\n",
        "histories.append(history)\n",
        "\n",
        "\n"
      ],
      "id": "13b3d502",
      "execution_count": null,
      "outputs": [
        {
          "output_type": "stream",
          "name": "stdout",
          "text": [
            "Epoch 1/30\n",
            "68/68 [==============================] - 1s 3ms/step - loss: 0.0393 - accuracy: 2.3148e-04\n",
            "Epoch 2/30\n",
            "68/68 [==============================] - 0s 3ms/step - loss: 0.0240 - accuracy: 4.6296e-04\n",
            "Epoch 3/30\n",
            "68/68 [==============================] - 0s 3ms/step - loss: 0.0113 - accuracy: 4.6296e-04\n",
            "Epoch 4/30\n",
            "68/68 [==============================] - 0s 3ms/step - loss: 0.0043 - accuracy: 4.6296e-04\n",
            "Epoch 5/30\n",
            "68/68 [==============================] - 0s 3ms/step - loss: 0.0013 - accuracy: 4.6296e-04\n",
            "Epoch 6/30\n",
            "68/68 [==============================] - 0s 3ms/step - loss: 5.0771e-04 - accuracy: 4.6296e-04\n",
            "Epoch 7/30\n",
            "68/68 [==============================] - 0s 2ms/step - loss: 4.2349e-04 - accuracy: 4.6296e-04\n",
            "Epoch 8/30\n",
            "68/68 [==============================] - 0s 3ms/step - loss: 4.2642e-04 - accuracy: 4.6296e-04\n",
            "Epoch 9/30\n",
            "68/68 [==============================] - 0s 3ms/step - loss: 4.5178e-04 - accuracy: 4.6296e-04\n",
            "Epoch 10/30\n",
            "68/68 [==============================] - 0s 2ms/step - loss: 4.3189e-04 - accuracy: 4.6296e-04\n",
            "Epoch 11/30\n",
            "68/68 [==============================] - 0s 3ms/step - loss: 4.2966e-04 - accuracy: 4.6296e-04\n",
            "Epoch 12/30\n",
            "68/68 [==============================] - 0s 3ms/step - loss: 4.2073e-04 - accuracy: 4.6296e-04\n",
            "Epoch 13/30\n",
            "68/68 [==============================] - 0s 3ms/step - loss: 4.2592e-04 - accuracy: 4.6296e-04\n",
            "Epoch 14/30\n",
            "68/68 [==============================] - 0s 2ms/step - loss: 4.6755e-04 - accuracy: 4.6296e-04\n",
            "Epoch 15/30\n",
            "68/68 [==============================] - 0s 3ms/step - loss: 4.2453e-04 - accuracy: 4.6296e-04\n",
            "Epoch 16/30\n",
            "68/68 [==============================] - 0s 3ms/step - loss: 4.9052e-04 - accuracy: 4.6296e-04\n",
            "Epoch 17/30\n",
            "68/68 [==============================] - 0s 3ms/step - loss: 4.2787e-04 - accuracy: 4.6296e-04\n",
            "Epoch 18/30\n",
            "68/68 [==============================] - 0s 3ms/step - loss: 4.3529e-04 - accuracy: 4.6296e-04\n",
            "Epoch 19/30\n",
            "68/68 [==============================] - 0s 3ms/step - loss: 4.3202e-04 - accuracy: 4.6296e-04\n",
            "Epoch 20/30\n",
            "68/68 [==============================] - 0s 3ms/step - loss: 4.8826e-04 - accuracy: 4.6296e-04\n",
            "Epoch 21/30\n",
            "68/68 [==============================] - 0s 3ms/step - loss: 4.6378e-04 - accuracy: 4.6296e-04\n",
            "Epoch 22/30\n",
            "68/68 [==============================] - 0s 3ms/step - loss: 4.6706e-04 - accuracy: 4.6296e-04\n",
            "Epoch 23/30\n",
            "68/68 [==============================] - 0s 3ms/step - loss: 4.2524e-04 - accuracy: 4.6296e-04\n",
            "Epoch 24/30\n",
            "68/68 [==============================] - 0s 2ms/step - loss: 4.2457e-04 - accuracy: 4.6296e-04\n",
            "Epoch 25/30\n",
            "68/68 [==============================] - 0s 3ms/step - loss: 4.5929e-04 - accuracy: 4.6296e-04\n",
            "Epoch 26/30\n",
            "68/68 [==============================] - 0s 3ms/step - loss: 4.3750e-04 - accuracy: 4.6296e-04\n",
            "Epoch 27/30\n",
            "68/68 [==============================] - 0s 3ms/step - loss: 4.3507e-04 - accuracy: 4.6296e-04\n",
            "Epoch 28/30\n",
            "68/68 [==============================] - 0s 2ms/step - loss: 4.6196e-04 - accuracy: 4.6296e-04\n",
            "Epoch 29/30\n",
            "68/68 [==============================] - 0s 3ms/step - loss: 4.2641e-04 - accuracy: 4.6296e-04\n",
            "Epoch 30/30\n",
            "68/68 [==============================] - 0s 2ms/step - loss: 4.4497e-04 - accuracy: 4.6296e-04\n"
          ]
        }
      ]
    },
    {
      "cell_type": "markdown",
      "metadata": {
        "id": "4rPGNFqdINTP"
      },
      "source": [
        "## 6) Test your trained classifiers on the Validation set (10 pts)\n",
        "Test your trained classifiers on the validation set and print the mean squared errors.\n"
      ],
      "id": "4rPGNFqdINTP"
    },
    {
      "cell_type": "code",
      "metadata": {
        "id": "9noUcsDJH1Hz",
        "colab": {
          "base_uri": "https://localhost:8080/"
        },
        "outputId": "7eb29887-bd3e-4fb6-db3b-513c34297283"
      },
      "source": [
        "# tests on validation\n",
        "\n",
        "#...\n",
        "score = model.evaluate(X_val_array, Y_val_array, verbose=0)\n",
        "print('Val MSE of 2-Layered:', score[0])\n",
        "\n",
        "score1 = model_1.evaluate(X_val_array, Y_val_array, verbose=0)\n",
        "print('Val MSE of 1-Layered 25 neuron:', score1[0])\n",
        "\n",
        "score2 = model_2.evaluate(X_val_array, Y_val_array, verbose=0)\n",
        "print('Val MSE of 1-Layered 50 neuron:', score2[0])\n",
        "\n",
        "score3 = model_3.evaluate(X_val_array, Y_val_array, verbose=0)\n",
        "print('Val MSE of 1-Layered 100 neuron:', score3[0])\n"
      ],
      "id": "9noUcsDJH1Hz",
      "execution_count": null,
      "outputs": [
        {
          "output_type": "stream",
          "name": "stdout",
          "text": [
            "Val MSE of 2-Layered: 0.0005103551666252315\n",
            "Val MSE of 1-Layered 25 neuron: 0.00039245132938958704\n",
            "Val MSE of 1-Layered 50 neuron: 0.0004338944854680449\n",
            "Val MSE of 1-Layered 100 neuron: 0.0004035242600366473\n"
          ]
        }
      ]
    },
    {
      "cell_type": "markdown",
      "metadata": {
        "id": "mojk_4Q9JQkR"
      },
      "source": [
        "## 7) Test your classifier on Test set (10 pts)\n",
        "\n",
        "- Load test data\n",
        "- Apply same pre-processing as training data (encoding categorical variables, scaling)\n",
        "- Predict the labels of testing data **using the best model that you have selected according to your validation results** and report the mean squared error. "
      ],
      "id": "mojk_4Q9JQkR"
    },
    {
      "cell_type": "code",
      "metadata": {
        "id": "5f3558e8",
        "colab": {
          "base_uri": "https://localhost:8080/"
        },
        "outputId": "b030ce43-2f7a-4a38-b3d6-f6c94a6f8236"
      },
      "source": [
        "# test results\n",
        "test_df = pd.read_csv(\"/content/drive/My Drive/412/test.csv\")\n",
        "cleanup_nums = {\"crime_rate\":     {\"low\": 0, \"high\": 1},\n",
        "                \"view\": {\"north\": 1, \"south\": 2, \"east\": 3, \"west\": 4}}\n",
        "test_df = test_df.replace(cleanup_nums)\n",
        "\n",
        "# scale the features between 0-1\n",
        "msc = MinMaxScaler(feature_range=(0, 1))\n",
        "scaled_test = msc.fit_transform(test_df)\n",
        "scaled_test_df = pd.DataFrame(scaled_test, columns=test_df.columns.values)\n",
        "scaled_test_df.head(10)\n",
        "# Define X:\n",
        "X = scaled_test_df[['sqmtrs',\t'nrooms',\t'view',\t'crime_rate']]\n",
        "\n",
        "# Define y:\n",
        "Y = scaled_test_df['price']\n",
        "\n",
        "X_test_array = X.values\n",
        "Y_test_array = Y.values\n",
        "\n",
        "score_final = model_2.evaluate(X_test_array, Y_test_array, verbose=0)\n",
        "print('Test MSE of 1-Layered 50 neuron:', score_final[0])"
      ],
      "id": "5f3558e8",
      "execution_count": null,
      "outputs": [
        {
          "output_type": "stream",
          "name": "stdout",
          "text": [
            "Test MSE of 1-Layered 50 neuron: 0.0011126638855785131\n"
          ]
        }
      ]
    },
    {
      "cell_type": "code",
      "source": [
        "min_rates = []\n",
        "learning_rates = [0.1, 0.09, 0.07, 0.03, 0.01, 0.001]\n",
        "for i in range (3):\n",
        "  print('RUN:', i + 1)\n",
        "  min_score = 0\n",
        "  min_rate = 0\n",
        "  count = 0\n",
        "  for rate in learning_rates:\n",
        "    model = keras.Sequential()\n",
        "    model.add(keras.layers.Dense(128, activation='relu', name='hiddenLayer-1'))\n",
        "    model.add(keras.layers.Dense(1))\n",
        "    opt = Adam(learning_rate=rate)\n",
        "    model.compile(loss='mean_squared_error', optimizer=opt)\n",
        "    model.fit(X_train_array, Y_train_array, batch_size=64, epochs=30, verbose=0)\n",
        "    score = model.evaluate(X_val_array, Y_val_array, verbose=0)\n",
        "    if count == 0:\n",
        "      min_score = score\n",
        "      min_rate = rate\n",
        "    count += 1\n",
        "    if score < min_score:\n",
        "      min_score = score\n",
        "      min_rate = rate\n",
        "    print(\"Loss with learning rate \", rate, ': ', score, sep='')\n",
        "  print(\"Lowest loss was:\", min_score, 'with learning rate:', min_rate, '\\n')\n",
        "  min_rates.append(min_rate)\n",
        "\n",
        "max_occur_rate = 0\n",
        "for rate in min_rates:\n",
        "  if min_rates.count(rate) > min_rates.count(max_occur_rate):\n",
        "    max_occur_rate = rate\n",
        "\n",
        "print(\"Best learning rate is:\", max_occur_rate)"
      ],
      "metadata": {
        "colab": {
          "base_uri": "https://localhost:8080/"
        },
        "id": "oqpY6CpafVRe",
        "outputId": "a9f096ec-1ebb-48ce-c66c-cb69947b81c5"
      },
      "id": "oqpY6CpafVRe",
      "execution_count": null,
      "outputs": [
        {
          "output_type": "stream",
          "name": "stdout",
          "text": [
            "RUN: 1\n",
            "Loss with learning rate 0.1: 0.048385992646217346\n",
            "Loss with learning rate 0.09: 0.00015368190361186862\n",
            "Loss with learning rate 0.07: 0.00046236536582000554\n",
            "Loss with learning rate 0.03: 6.817416578996927e-05\n",
            "Loss with learning rate 0.01: 5.880971366423182e-05\n",
            "Loss with learning rate 0.001: 6.194718298502266e-05\n",
            "Lowest loss was: 5.880971366423182e-05 with learning rate: 0.01 \n",
            "\n",
            "RUN: 2\n",
            "Loss with learning rate 0.1: 0.0004445115337148309\n",
            "Loss with learning rate 0.09: 0.0007889315602369606\n",
            "Loss with learning rate 0.07: 0.00015180477930698544\n",
            "Loss with learning rate 0.03: 7.618909876327962e-05\n",
            "Loss with learning rate 0.01: 5.9890571719734e-05\n",
            "Loss with learning rate 0.001: 6.119866156950593e-05\n",
            "Lowest loss was: 5.9890571719734e-05 with learning rate: 0.01 \n",
            "\n",
            "RUN: 3\n",
            "Loss with learning rate 0.1: 0.0008767552208155394\n",
            "Loss with learning rate 0.09: 0.0004876038001384586\n",
            "Loss with learning rate 0.07: 0.00012871863145846874\n",
            "Loss with learning rate 0.03: 7.992091559572145e-05\n",
            "Loss with learning rate 0.01: 5.8650395658332855e-05\n",
            "Loss with learning rate 0.001: 6.555812433362007e-05\n",
            "Lowest loss was: 5.8650395658332855e-05 with learning rate: 0.01 \n",
            "\n",
            "Best learning rate is: 0.01\n"
          ]
        }
      ]
    },
    {
      "cell_type": "code",
      "source": [
        "min_rates = []\n",
        "neurons = [25,50,100,200,500]\n",
        "for i in range (3):\n",
        "  print('RUN:', i + 1)\n",
        "  min_score = 0\n",
        "  min_rate = 0\n",
        "  count = 0\n",
        "  for n in neurons:\n",
        "    model = keras.Sequential()\n",
        "    model.add(keras.layers.Dense(n, activation='relu', name='hiddenLayer-1'))\n",
        "    model.add(keras.layers.Dense(1))\n",
        "    opt = Adam(learning_rate=0.001)\n",
        "    model.compile(loss='mean_squared_error', optimizer=opt)\n",
        "    model.fit(X_train_array, Y_train_array, batch_size=64, epochs=30, verbose=0)\n",
        "    score = model.evaluate(X_val_array, Y_val_array, verbose=0)\n",
        "    if count == 0:\n",
        "      min_score = score\n",
        "      min_rate = n\n",
        "    count += 1\n",
        "    if score < min_score:\n",
        "      min_score = score\n",
        "      min_rate = n\n",
        "    print(\"Loss with # of neurons \", n, ': ', score, sep='')\n",
        "  print(\"Loss was:\", min_score, 'with # of neurons:', min_rate, '\\n')\n",
        "  min_rates.append(min_rate)\n",
        "\n",
        "max_occur_rate = 0\n",
        "for rate in min_rates:\n",
        "  if min_rates.count(rate) > min_rates.count(max_occur_rate):\n",
        "    max_occur_rate = rate\n",
        "\n",
        "print(\"Best # of neurons is:\", max_occur_rate)"
      ],
      "metadata": {
        "colab": {
          "base_uri": "https://localhost:8080/"
        },
        "id": "O1tft92Ghhu-",
        "outputId": "936d3464-5448-4ac1-a39c-e9f8e025d708"
      },
      "id": "O1tft92Ghhu-",
      "execution_count": null,
      "outputs": [
        {
          "output_type": "stream",
          "name": "stdout",
          "text": [
            "RUN: 1\n",
            "Loss with # of neurons 25: 0.0003037714632228017\n",
            "Loss with # of neurons 50: 0.00010257354733766988\n",
            "Loss with # of neurons 100: 6.398266123142093e-05\n",
            "Loss with # of neurons 200: 6.754184141755104e-05\n",
            "Loss with # of neurons 500: 6.517938163597137e-05\n",
            "Loss was: 6.398266123142093e-05 with # of neurons: 100 \n",
            "\n",
            "RUN: 2\n",
            "Loss with # of neurons 25: 0.00011754301522159949\n",
            "Loss with # of neurons 50: 0.0001277210540138185\n",
            "Loss with # of neurons 100: 8.362873631995171e-05\n",
            "Loss with # of neurons 200: 5.5636748584220186e-05\n",
            "Loss with # of neurons 500: 5.532363138627261e-05\n",
            "Loss was: 5.532363138627261e-05 with # of neurons: 500 \n",
            "\n",
            "RUN: 3\n",
            "Loss with # of neurons 25: 0.00014621230366174132\n",
            "Loss with # of neurons 50: 0.0001312487875111401\n",
            "Loss with # of neurons 100: 8.525009616278112e-05\n",
            "Loss with # of neurons 200: 6.583460344700143e-05\n",
            "Loss with # of neurons 500: 5.1525876187952235e-05\n",
            "Loss was: 5.1525876187952235e-05 with # of neurons: 500 \n",
            "\n",
            "Best # of neurons is: 500\n"
          ]
        }
      ]
    },
    {
      "cell_type": "markdown",
      "source": [],
      "metadata": {
        "id": "zOH8vT5AjBGt"
      },
      "id": "zOH8vT5AjBGt"
    },
    {
      "cell_type": "code",
      "source": [
        "model = keras.Sequential()\n",
        "model.add(keras.layers.Dense(500, activation='relu', name='hiddenLayer-1'))\n",
        "model.add(keras.layers.Dense(1))\n",
        "opt = Adam(learning_rate=0.001)\n",
        "model.compile(loss='mean_squared_error', optimizer=opt)\n",
        "model.fit(X_train_array, Y_train_array, batch_size=64, epochs=30, verbose=0)\n",
        "score = model.evaluate(X_val_array, Y_val_array, verbose=0)\n",
        "score_final = model_2.evaluate(X_test_array, Y_test_array, verbose=0)\n",
        "\n",
        "print(\"We have obtained the best results on the validation set with the the last approach (experimenting with different neurons and learning rates) using a value of \\n500 neurons and 0.001 learning rate for the hyperparameter.\\nThe result of this model on the test data is\", score_final[0], \" MSE.\")"
      ],
      "metadata": {
        "colab": {
          "base_uri": "https://localhost:8080/"
        },
        "id": "oFY-_r_WjBi1",
        "outputId": "89b342ae-2dac-475a-ecb3-feddda08e000"
      },
      "id": "oFY-_r_WjBi1",
      "execution_count": null,
      "outputs": [
        {
          "output_type": "stream",
          "name": "stdout",
          "text": [
            "We have obtained the best results on the validation set with the the last approach (experimenting with different neurons and learning rates) using a value of \n",
            "500 neurons and 0.001 learning rate for the hyperparameter.\n",
            "The result of this model on the test data is 0.0011126638855785131  MSE.\n"
          ]
        }
      ]
    },
    {
      "cell_type": "markdown",
      "metadata": {
        "id": "Qg0mDfdNJgrd"
      },
      "source": [
        "##8) Report Your Results (10 pts)\n",
        "\n",
        "**Notebook should be RUN:** As training and testing may take a long time, we may just look at your notebook results without running the code again; so make sure **each cell is run**, so outputs are there.\n",
        "\n",
        "**Report:** Write an **1-2 page summary** of your approach to this problem **as indicated below**. \n",
        "\n",
        "**Must include statements such as those below:**\n",
        "**(Remove the text in parentheses, below, and include your own report)**\n",
        "\n",
        "( Include the problem definition: 1-2 lines )\n",
        "\n",
        " (Talk about train/val/test sets, size and how split. )\n",
        "\n",
        " (Talk about feature extraction or preprocessing.)\n",
        "\n",
        "**Add your observations as follows** (keep the questions for easy grading/context) in the report part of your notebook.\n",
        "\n",
        "**Observations**\n",
        "\n",
        "- Try a few learning rates for N=25 hidden neurons,  train for the indicated amount of epochs. Comment on what happens when learning rate is large or small? What is a good number/range for the learning rate?\n",
        "Your answer here….\n",
        "\n",
        "- Use that learning rate and vary the number of hidden neurons for the given values and try the indicated number of epochs. Give the validation mean squared errors for different approach and meta-parameters tried **in a table** and state which one you selected as your model. How many hidden neurons give the best model? \n",
        "Your answer here….\n",
        "\n",
        "- State  what your test results are with the chosen approach and meta-parameters: e.g. \"We have obtained the best results on the validation set with the ..........approach using a value of ...... for .... parameter. The result of this model on the test data is ..... % accuracy.\"\" \n",
        "\n",
        "- How slow is learning? Any other problems?\n",
        "Your answer here….\n",
        "\n",
        "- Any other observations (not obligatory)\n",
        "\n",
        " You can add additional visualization as separate pages if you want, think of them as appendix, keeping the summary to 1-2-pages.\n",
        "\n"
      ],
      "id": "Qg0mDfdNJgrd"
    }
  ]
}